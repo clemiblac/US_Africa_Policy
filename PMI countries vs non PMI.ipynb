{
 "cells": [
  {
   "cell_type": "code",
   "execution_count": null,
   "metadata": {},
   "outputs": [],
   "source": [
    "#24 focus countries but I removed \"Burma\" and CAMBODIA so 22 African countries\n",
    "\n",
    "PMI_countries={\"Angola\",\"Benin\",\"Burkina Faso\",\"Cameroon\",\"Côte d'Ivoire\",\"Democratic Republic of the Congo\",\"Ethiopia\",\n",
    "                   \"Ghana\",\"Guinea\",\"Kenya\",\"Liberia\",\"Madagascar\",\"Malawi\",\"Mali\",\"Niger\",\"Mozambique\",\"Nigeria\",\"Rwanda\",\n",
    "               \"Senegal\",\"Sierra Leone\",\"Tanzania\",\"Uganda\",\"Zambia\",\"Zimbabwe\"}"
   ]
  },
  {
   "cell_type": "code",
   "execution_count": null,
   "metadata": {},
   "outputs": [],
   "source": [
    "c_list=pd.DataFrame(PMI_countries)"
   ]
  },
  {
   "cell_type": "code",
   "execution_count": null,
   "metadata": {},
   "outputs": [],
   "source": [
    "country_list=c_list.rename(columns={0:\"Geographic area\"})"
   ]
  },
  {
   "cell_type": "code",
   "execution_count": null,
   "metadata": {},
   "outputs": [],
   "source": [
    "country_list.head(5)\n",
    "\n",
    "merged_df=pd.merge(df,country_list,how=\"inner\",on=\"Geographic area\")\n",
    "\n",
    "merged_df.head(5)\n",
    "\n",
    "Africa_df=merged_df.loc[merged_df[\"continent\"]==\"Africa\",:] #and TIME_PERIOD>=2005\n",
    "\n",
    "Africa_df\n",
    "\n",
    "Africa_df[\"Indicator\"].unique()"
   ]
  },
  {
   "cell_type": "code",
   "execution_count": null,
   "metadata": {},
   "outputs": [],
   "source": [
    "#PMI indicators\n",
    "All-cause under-five mortality rate* \n",
    "\n",
    "Proportion of households with at least one ITN\n",
    "\n",
    "Proportion of children under five years old who slept under an ITN the previous night \n",
    "\n",
    "Proportion of pregnant women who slept under an ITN the previous night\n",
    "\n",
    "Proportion of women who received two or more doses of intermittent preventive treatment for pregnant women (IPTp)\n",
    "during their last pregnancy in the last 2 years "
   ]
  },
  {
   "cell_type": "code",
   "execution_count": null,
   "metadata": {},
   "outputs": [],
   "source": []
  },
  {
   "cell_type": "code",
   "execution_count": null,
   "metadata": {},
   "outputs": [],
   "source": []
  },
  {
   "cell_type": "code",
   "execution_count": null,
   "metadata": {},
   "outputs": [],
   "source": []
  },
  {
   "cell_type": "code",
   "execution_count": null,
   "metadata": {},
   "outputs": [],
   "source": []
  }
 ],
 "metadata": {
  "kernelspec": {
   "display_name": "Python 3",
   "language": "python",
   "name": "python3"
  },
  "language_info": {
   "codemirror_mode": {
    "name": "ipython",
    "version": 3
   },
   "file_extension": ".py",
   "mimetype": "text/x-python",
   "name": "python",
   "nbconvert_exporter": "python",
   "pygments_lexer": "ipython3",
   "version": "3.8.3"
  }
 },
 "nbformat": 4,
 "nbformat_minor": 4
}
